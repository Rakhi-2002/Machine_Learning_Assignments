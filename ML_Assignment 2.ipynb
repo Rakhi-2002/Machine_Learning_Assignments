{
  "nbformat": 4,
  "nbformat_minor": 0,
  "metadata": {
    "colab": {
      "provenance": []
    },
    "kernelspec": {
      "name": "python3",
      "display_name": "Python 3"
    },
    "language_info": {
      "name": "python"
    }
  },
  "cells": [
    {
      "cell_type": "code",
      "execution_count": null,
      "metadata": {
        "id": "JZHl9srr1eHS"
      },
      "outputs": [],
      "source": [
        "#mkdir A2pract"
      ]
    },
    {
      "cell_type": "code",
      "source": [
        "#cd A2pract"
      ],
      "metadata": {
        "id": "IaaWD1S2f9hO"
      },
      "execution_count": null,
      "outputs": []
    },
    {
      "cell_type": "code",
      "source": [
        "import pandas as pd #to read the dataset\n",
        "from sklearn.linear_model import LinearRegression #to build the regression model \n",
        "from sklearn.metrics import mean_absolute_error, mean_squared_error, r2_score #cost functions\n",
        "import matplotlib.pyplot as plt #to plot input vs output plots/graphs (data visualization)\n",
        "import seaborn as sns #data visualization\n",
        "\n",
        "df = pd.read_csv('temperatures.csv')\n",
        "df"
      ],
      "metadata": {
        "colab": {
          "base_uri": "https://localhost:8080/",
          "height": 485
        },
        "id": "VyKxdRJLf99K",
        "outputId": "7edc36c7-ea37-4133-996b-82e2b3c8f3ce"
      },
      "execution_count": null,
      "outputs": [
        {
          "output_type": "execute_result",
          "data": {
            "text/plain": [
              "     YEAR    JAN    FEB    MAR    APR    MAY    JUN    JUL    AUG    SEP  \\\n",
              "0    1901  22.40  24.14  29.07  31.91  33.41  33.18  31.21  30.39  30.47   \n",
              "1    1902  24.93  26.58  29.77  31.78  33.73  32.91  30.92  30.73  29.80   \n",
              "2    1903  23.44  25.03  27.83  31.39  32.91  33.00  31.34  29.98  29.85   \n",
              "3    1904  22.50  24.73  28.21  32.02  32.64  32.07  30.36  30.09  30.04   \n",
              "4    1905  22.00  22.83  26.68  30.01  33.32  33.25  31.44  30.68  30.12   \n",
              "..    ...    ...    ...    ...    ...    ...    ...    ...    ...    ...   \n",
              "112  2013  24.56  26.59  30.62  32.66  34.46  32.44  31.07  30.76  31.04   \n",
              "113  2014  23.83  25.97  28.95  32.74  33.77  34.15  31.85  31.32  30.68   \n",
              "114  2015  24.58  26.89  29.07  31.87  34.09  32.48  31.88  31.52  31.55   \n",
              "115  2016  26.94  29.72  32.62  35.38  35.72  34.03  31.64  31.79  31.66   \n",
              "116  2017  26.45  29.46  31.60  34.95  35.84  33.82  31.88  31.72  32.22   \n",
              "\n",
              "       OCT    NOV    DEC  ANNUAL  JAN-FEB  MAR-MAY  JUN-SEP  OCT-DEC  \n",
              "0    29.97  27.31  24.49   28.96    23.27    31.46    31.27    27.25  \n",
              "1    29.12  26.31  24.04   29.22    25.75    31.76    31.09    26.49  \n",
              "2    29.04  26.08  23.65   28.47    24.24    30.71    30.92    26.26  \n",
              "3    29.20  26.36  23.63   28.49    23.62    30.95    30.66    26.40  \n",
              "4    30.67  27.52  23.82   28.30    22.25    30.00    31.33    26.57  \n",
              "..     ...    ...    ...     ...      ...      ...      ...      ...  \n",
              "112  30.27  27.83  25.37   29.81    25.58    32.58    31.33    27.83  \n",
              "113  30.29  28.05  25.08   29.72    24.90    31.82    32.00    27.81  \n",
              "114  31.04  28.10  25.67   29.90    25.74    31.68    31.87    28.27  \n",
              "115  31.98  30.11  28.01   31.63    28.33    34.57    32.28    30.03  \n",
              "116  32.29  29.60  27.18   31.42    27.95    34.13    32.41    29.69  \n",
              "\n",
              "[117 rows x 18 columns]"
            ],
            "text/html": [
              "\n",
              "  <div id=\"df-d2287510-58c5-462a-913e-84cb481a6551\">\n",
              "    <div class=\"colab-df-container\">\n",
              "      <div>\n",
              "<style scoped>\n",
              "    .dataframe tbody tr th:only-of-type {\n",
              "        vertical-align: middle;\n",
              "    }\n",
              "\n",
              "    .dataframe tbody tr th {\n",
              "        vertical-align: top;\n",
              "    }\n",
              "\n",
              "    .dataframe thead th {\n",
              "        text-align: right;\n",
              "    }\n",
              "</style>\n",
              "<table border=\"1\" class=\"dataframe\">\n",
              "  <thead>\n",
              "    <tr style=\"text-align: right;\">\n",
              "      <th></th>\n",
              "      <th>YEAR</th>\n",
              "      <th>JAN</th>\n",
              "      <th>FEB</th>\n",
              "      <th>MAR</th>\n",
              "      <th>APR</th>\n",
              "      <th>MAY</th>\n",
              "      <th>JUN</th>\n",
              "      <th>JUL</th>\n",
              "      <th>AUG</th>\n",
              "      <th>SEP</th>\n",
              "      <th>OCT</th>\n",
              "      <th>NOV</th>\n",
              "      <th>DEC</th>\n",
              "      <th>ANNUAL</th>\n",
              "      <th>JAN-FEB</th>\n",
              "      <th>MAR-MAY</th>\n",
              "      <th>JUN-SEP</th>\n",
              "      <th>OCT-DEC</th>\n",
              "    </tr>\n",
              "  </thead>\n",
              "  <tbody>\n",
              "    <tr>\n",
              "      <th>0</th>\n",
              "      <td>1901</td>\n",
              "      <td>22.40</td>\n",
              "      <td>24.14</td>\n",
              "      <td>29.07</td>\n",
              "      <td>31.91</td>\n",
              "      <td>33.41</td>\n",
              "      <td>33.18</td>\n",
              "      <td>31.21</td>\n",
              "      <td>30.39</td>\n",
              "      <td>30.47</td>\n",
              "      <td>29.97</td>\n",
              "      <td>27.31</td>\n",
              "      <td>24.49</td>\n",
              "      <td>28.96</td>\n",
              "      <td>23.27</td>\n",
              "      <td>31.46</td>\n",
              "      <td>31.27</td>\n",
              "      <td>27.25</td>\n",
              "    </tr>\n",
              "    <tr>\n",
              "      <th>1</th>\n",
              "      <td>1902</td>\n",
              "      <td>24.93</td>\n",
              "      <td>26.58</td>\n",
              "      <td>29.77</td>\n",
              "      <td>31.78</td>\n",
              "      <td>33.73</td>\n",
              "      <td>32.91</td>\n",
              "      <td>30.92</td>\n",
              "      <td>30.73</td>\n",
              "      <td>29.80</td>\n",
              "      <td>29.12</td>\n",
              "      <td>26.31</td>\n",
              "      <td>24.04</td>\n",
              "      <td>29.22</td>\n",
              "      <td>25.75</td>\n",
              "      <td>31.76</td>\n",
              "      <td>31.09</td>\n",
              "      <td>26.49</td>\n",
              "    </tr>\n",
              "    <tr>\n",
              "      <th>2</th>\n",
              "      <td>1903</td>\n",
              "      <td>23.44</td>\n",
              "      <td>25.03</td>\n",
              "      <td>27.83</td>\n",
              "      <td>31.39</td>\n",
              "      <td>32.91</td>\n",
              "      <td>33.00</td>\n",
              "      <td>31.34</td>\n",
              "      <td>29.98</td>\n",
              "      <td>29.85</td>\n",
              "      <td>29.04</td>\n",
              "      <td>26.08</td>\n",
              "      <td>23.65</td>\n",
              "      <td>28.47</td>\n",
              "      <td>24.24</td>\n",
              "      <td>30.71</td>\n",
              "      <td>30.92</td>\n",
              "      <td>26.26</td>\n",
              "    </tr>\n",
              "    <tr>\n",
              "      <th>3</th>\n",
              "      <td>1904</td>\n",
              "      <td>22.50</td>\n",
              "      <td>24.73</td>\n",
              "      <td>28.21</td>\n",
              "      <td>32.02</td>\n",
              "      <td>32.64</td>\n",
              "      <td>32.07</td>\n",
              "      <td>30.36</td>\n",
              "      <td>30.09</td>\n",
              "      <td>30.04</td>\n",
              "      <td>29.20</td>\n",
              "      <td>26.36</td>\n",
              "      <td>23.63</td>\n",
              "      <td>28.49</td>\n",
              "      <td>23.62</td>\n",
              "      <td>30.95</td>\n",
              "      <td>30.66</td>\n",
              "      <td>26.40</td>\n",
              "    </tr>\n",
              "    <tr>\n",
              "      <th>4</th>\n",
              "      <td>1905</td>\n",
              "      <td>22.00</td>\n",
              "      <td>22.83</td>\n",
              "      <td>26.68</td>\n",
              "      <td>30.01</td>\n",
              "      <td>33.32</td>\n",
              "      <td>33.25</td>\n",
              "      <td>31.44</td>\n",
              "      <td>30.68</td>\n",
              "      <td>30.12</td>\n",
              "      <td>30.67</td>\n",
              "      <td>27.52</td>\n",
              "      <td>23.82</td>\n",
              "      <td>28.30</td>\n",
              "      <td>22.25</td>\n",
              "      <td>30.00</td>\n",
              "      <td>31.33</td>\n",
              "      <td>26.57</td>\n",
              "    </tr>\n",
              "    <tr>\n",
              "      <th>...</th>\n",
              "      <td>...</td>\n",
              "      <td>...</td>\n",
              "      <td>...</td>\n",
              "      <td>...</td>\n",
              "      <td>...</td>\n",
              "      <td>...</td>\n",
              "      <td>...</td>\n",
              "      <td>...</td>\n",
              "      <td>...</td>\n",
              "      <td>...</td>\n",
              "      <td>...</td>\n",
              "      <td>...</td>\n",
              "      <td>...</td>\n",
              "      <td>...</td>\n",
              "      <td>...</td>\n",
              "      <td>...</td>\n",
              "      <td>...</td>\n",
              "      <td>...</td>\n",
              "    </tr>\n",
              "    <tr>\n",
              "      <th>112</th>\n",
              "      <td>2013</td>\n",
              "      <td>24.56</td>\n",
              "      <td>26.59</td>\n",
              "      <td>30.62</td>\n",
              "      <td>32.66</td>\n",
              "      <td>34.46</td>\n",
              "      <td>32.44</td>\n",
              "      <td>31.07</td>\n",
              "      <td>30.76</td>\n",
              "      <td>31.04</td>\n",
              "      <td>30.27</td>\n",
              "      <td>27.83</td>\n",
              "      <td>25.37</td>\n",
              "      <td>29.81</td>\n",
              "      <td>25.58</td>\n",
              "      <td>32.58</td>\n",
              "      <td>31.33</td>\n",
              "      <td>27.83</td>\n",
              "    </tr>\n",
              "    <tr>\n",
              "      <th>113</th>\n",
              "      <td>2014</td>\n",
              "      <td>23.83</td>\n",
              "      <td>25.97</td>\n",
              "      <td>28.95</td>\n",
              "      <td>32.74</td>\n",
              "      <td>33.77</td>\n",
              "      <td>34.15</td>\n",
              "      <td>31.85</td>\n",
              "      <td>31.32</td>\n",
              "      <td>30.68</td>\n",
              "      <td>30.29</td>\n",
              "      <td>28.05</td>\n",
              "      <td>25.08</td>\n",
              "      <td>29.72</td>\n",
              "      <td>24.90</td>\n",
              "      <td>31.82</td>\n",
              "      <td>32.00</td>\n",
              "      <td>27.81</td>\n",
              "    </tr>\n",
              "    <tr>\n",
              "      <th>114</th>\n",
              "      <td>2015</td>\n",
              "      <td>24.58</td>\n",
              "      <td>26.89</td>\n",
              "      <td>29.07</td>\n",
              "      <td>31.87</td>\n",
              "      <td>34.09</td>\n",
              "      <td>32.48</td>\n",
              "      <td>31.88</td>\n",
              "      <td>31.52</td>\n",
              "      <td>31.55</td>\n",
              "      <td>31.04</td>\n",
              "      <td>28.10</td>\n",
              "      <td>25.67</td>\n",
              "      <td>29.90</td>\n",
              "      <td>25.74</td>\n",
              "      <td>31.68</td>\n",
              "      <td>31.87</td>\n",
              "      <td>28.27</td>\n",
              "    </tr>\n",
              "    <tr>\n",
              "      <th>115</th>\n",
              "      <td>2016</td>\n",
              "      <td>26.94</td>\n",
              "      <td>29.72</td>\n",
              "      <td>32.62</td>\n",
              "      <td>35.38</td>\n",
              "      <td>35.72</td>\n",
              "      <td>34.03</td>\n",
              "      <td>31.64</td>\n",
              "      <td>31.79</td>\n",
              "      <td>31.66</td>\n",
              "      <td>31.98</td>\n",
              "      <td>30.11</td>\n",
              "      <td>28.01</td>\n",
              "      <td>31.63</td>\n",
              "      <td>28.33</td>\n",
              "      <td>34.57</td>\n",
              "      <td>32.28</td>\n",
              "      <td>30.03</td>\n",
              "    </tr>\n",
              "    <tr>\n",
              "      <th>116</th>\n",
              "      <td>2017</td>\n",
              "      <td>26.45</td>\n",
              "      <td>29.46</td>\n",
              "      <td>31.60</td>\n",
              "      <td>34.95</td>\n",
              "      <td>35.84</td>\n",
              "      <td>33.82</td>\n",
              "      <td>31.88</td>\n",
              "      <td>31.72</td>\n",
              "      <td>32.22</td>\n",
              "      <td>32.29</td>\n",
              "      <td>29.60</td>\n",
              "      <td>27.18</td>\n",
              "      <td>31.42</td>\n",
              "      <td>27.95</td>\n",
              "      <td>34.13</td>\n",
              "      <td>32.41</td>\n",
              "      <td>29.69</td>\n",
              "    </tr>\n",
              "  </tbody>\n",
              "</table>\n",
              "<p>117 rows × 18 columns</p>\n",
              "</div>\n",
              "      <button class=\"colab-df-convert\" onclick=\"convertToInteractive('df-d2287510-58c5-462a-913e-84cb481a6551')\"\n",
              "              title=\"Convert this dataframe to an interactive table.\"\n",
              "              style=\"display:none;\">\n",
              "        \n",
              "  <svg xmlns=\"http://www.w3.org/2000/svg\" height=\"24px\"viewBox=\"0 0 24 24\"\n",
              "       width=\"24px\">\n",
              "    <path d=\"M0 0h24v24H0V0z\" fill=\"none\"/>\n",
              "    <path d=\"M18.56 5.44l.94 2.06.94-2.06 2.06-.94-2.06-.94-.94-2.06-.94 2.06-2.06.94zm-11 1L8.5 8.5l.94-2.06 2.06-.94-2.06-.94L8.5 2.5l-.94 2.06-2.06.94zm10 10l.94 2.06.94-2.06 2.06-.94-2.06-.94-.94-2.06-.94 2.06-2.06.94z\"/><path d=\"M17.41 7.96l-1.37-1.37c-.4-.4-.92-.59-1.43-.59-.52 0-1.04.2-1.43.59L10.3 9.45l-7.72 7.72c-.78.78-.78 2.05 0 2.83L4 21.41c.39.39.9.59 1.41.59.51 0 1.02-.2 1.41-.59l7.78-7.78 2.81-2.81c.8-.78.8-2.07 0-2.86zM5.41 20L4 18.59l7.72-7.72 1.47 1.35L5.41 20z\"/>\n",
              "  </svg>\n",
              "      </button>\n",
              "      \n",
              "  <style>\n",
              "    .colab-df-container {\n",
              "      display:flex;\n",
              "      flex-wrap:wrap;\n",
              "      gap: 12px;\n",
              "    }\n",
              "\n",
              "    .colab-df-convert {\n",
              "      background-color: #E8F0FE;\n",
              "      border: none;\n",
              "      border-radius: 50%;\n",
              "      cursor: pointer;\n",
              "      display: none;\n",
              "      fill: #1967D2;\n",
              "      height: 32px;\n",
              "      padding: 0 0 0 0;\n",
              "      width: 32px;\n",
              "    }\n",
              "\n",
              "    .colab-df-convert:hover {\n",
              "      background-color: #E2EBFA;\n",
              "      box-shadow: 0px 1px 2px rgba(60, 64, 67, 0.3), 0px 1px 3px 1px rgba(60, 64, 67, 0.15);\n",
              "      fill: #174EA6;\n",
              "    }\n",
              "\n",
              "    [theme=dark] .colab-df-convert {\n",
              "      background-color: #3B4455;\n",
              "      fill: #D2E3FC;\n",
              "    }\n",
              "\n",
              "    [theme=dark] .colab-df-convert:hover {\n",
              "      background-color: #434B5C;\n",
              "      box-shadow: 0px 1px 3px 1px rgba(0, 0, 0, 0.15);\n",
              "      filter: drop-shadow(0px 1px 2px rgba(0, 0, 0, 0.3));\n",
              "      fill: #FFFFFF;\n",
              "    }\n",
              "  </style>\n",
              "\n",
              "      <script>\n",
              "        const buttonEl =\n",
              "          document.querySelector('#df-d2287510-58c5-462a-913e-84cb481a6551 button.colab-df-convert');\n",
              "        buttonEl.style.display =\n",
              "          google.colab.kernel.accessAllowed ? 'block' : 'none';\n",
              "\n",
              "        async function convertToInteractive(key) {\n",
              "          const element = document.querySelector('#df-d2287510-58c5-462a-913e-84cb481a6551');\n",
              "          const dataTable =\n",
              "            await google.colab.kernel.invokeFunction('convertToInteractive',\n",
              "                                                     [key], {});\n",
              "          if (!dataTable) return;\n",
              "\n",
              "          const docLinkHtml = 'Like what you see? Visit the ' +\n",
              "            '<a target=\"_blank\" href=https://colab.research.google.com/notebooks/data_table.ipynb>data table notebook</a>'\n",
              "            + ' to learn more about interactive tables.';\n",
              "          element.innerHTML = '';\n",
              "          dataTable['output_type'] = 'display_data';\n",
              "          await google.colab.output.renderOutput(dataTable, element);\n",
              "          const docLink = document.createElement('div');\n",
              "          docLink.innerHTML = docLinkHtml;\n",
              "          element.appendChild(docLink);\n",
              "        }\n",
              "      </script>\n",
              "    </div>\n",
              "  </div>\n",
              "  "
            ]
          },
          "metadata": {},
          "execution_count": 108
        }
      ]
    },
    {
      "cell_type": "code",
      "source": [
        "#both input and output ------> train data\n",
        "x = df[['YEAR']]  #input\n",
        "y = df['ANNUAL']  #output"
      ],
      "metadata": {
        "id": "35XHGrbPf9_p"
      },
      "execution_count": null,
      "outputs": []
    },
    {
      "cell_type": "code",
      "source": [
        "plt.figure(figsize=(8,6)) #decides size of the figure or plot, (x,y)---> aspect ratio\n",
        "plt.title('Year vs Annual Temperature') #name of the plot\n",
        "plt.xlabel('Year') #input on x axix\n",
        "plt.ylabel('Annual Temperature') #output on y axis\n",
        "plt.scatter(x,y) #to display datapoints for given x and y values"
      ],
      "metadata": {
        "colab": {
          "base_uri": "https://localhost:8080/",
          "height": 421
        },
        "id": "40qxuaQmf-CV",
        "outputId": "e9a42b9c-d34b-4ee0-a75d-4c7c581da4f9"
      },
      "execution_count": null,
      "outputs": [
        {
          "output_type": "execute_result",
          "data": {
            "text/plain": [
              "<matplotlib.collections.PathCollection at 0x7f866e8c5690>"
            ]
          },
          "metadata": {},
          "execution_count": 110
        },
        {
          "output_type": "display_data",
          "data": {
            "text/plain": [
              "<Figure size 576x432 with 1 Axes>"
            ],
            "image/png": "[encoded data removed]"
          },
          "metadata": {
            "needs_background": "light"
          }
        }
      ]
    },
    {
      "cell_type": "code",
      "source": [
        "x.shape #2D array"
      ],
      "metadata": {
        "colab": {
          "base_uri": "https://localhost:8080/"
        },
        "id": "b6FV0Y1Wf-Ez",
        "outputId": "0892059a-309e-4d12-ec3a-d570cf0a0118"
      },
      "execution_count": null,
      "outputs": [
        {
          "output_type": "execute_result",
          "data": {
            "text/plain": [
              "(117, 1)"
            ]
          },
          "metadata": {},
          "execution_count": 111
        }
      ]
    },
    {
      "cell_type": "code",
      "source": [
        "x"
      ],
      "metadata": {
        "colab": {
          "base_uri": "https://localhost:8080/",
          "height": 424
        },
        "id": "Ax8WTmx1f-Hi",
        "outputId": "001369a6-21e6-4022-94c0-168fcd98d37a"
      },
      "execution_count": null,
      "outputs": [
        {
          "output_type": "execute_result",
          "data": {
            "text/plain": [
              "     YEAR\n",
              "0    1901\n",
              "1    1902\n",
              "2    1903\n",
              "3    1904\n",
              "4    1905\n",
              "..    ...\n",
              "112  2013\n",
              "113  2014\n",
              "114  2015\n",
              "115  2016\n",
              "116  2017\n",
              "\n",
              "[117 rows x 1 columns]"
            ],
            "text/html": [
              "\n",
              "  <div id=\"df-6993f0e8-0ed8-46f0-ba93-5beacaab979e\">\n",
              "    <div class=\"colab-df-container\">\n",
              "      <div>\n",
              "<style scoped>\n",
              "    .dataframe tbody tr th:only-of-type {\n",
              "        vertical-align: middle;\n",
              "    }\n",
              "\n",
              "    .dataframe tbody tr th {\n",
              "        vertical-align: top;\n",
              "    }\n",
              "\n",
              "    .dataframe thead th {\n",
              "        text-align: right;\n",
              "    }\n",
              "</style>\n",
              "<table border=\"1\" class=\"dataframe\">\n",
              "  <thead>\n",
              "    <tr style=\"text-align: right;\">\n",
              "      <th></th>\n",
              "      <th>YEAR</th>\n",
              "    </tr>\n",
              "  </thead>\n",
              "  <tbody>\n",
              "    <tr>\n",
              "      <th>0</th>\n",
              "      <td>1901</td>\n",
              "    </tr>\n",
              "    <tr>\n",
              "      <th>1</th>\n",
              "      <td>1902</td>\n",
              "    </tr>\n",
              "    <tr>\n",
              "      <th>2</th>\n",
              "      <td>1903</td>\n",
              "    </tr>\n",
              "    <tr>\n",
              "      <th>3</th>\n",
              "      <td>1904</td>\n",
              "    </tr>\n",
              "    <tr>\n",
              "      <th>4</th>\n",
              "      <td>1905</td>\n",
              "    </tr>\n",
              "    <tr>\n",
              "      <th>...</th>\n",
              "      <td>...</td>\n",
              "    </tr>\n",
              "    <tr>\n",
              "      <th>112</th>\n",
              "      <td>2013</td>\n",
              "    </tr>\n",
              "    <tr>\n",
              "      <th>113</th>\n",
              "      <td>2014</td>\n",
              "    </tr>\n",
              "    <tr>\n",
              "      <th>114</th>\n",
              "      <td>2015</td>\n",
              "    </tr>\n",
              "    <tr>\n",
              "      <th>115</th>\n",
              "      <td>2016</td>\n",
              "    </tr>\n",
              "    <tr>\n",
              "      <th>116</th>\n",
              "      <td>2017</td>\n",
              "    </tr>\n",
              "  </tbody>\n",
              "</table>\n",
              "<p>117 rows × 1 columns</p>\n",
              "</div>\n",
              "      <button class=\"colab-df-convert\" onclick=\"convertToInteractive('df-6993f0e8-0ed8-46f0-ba93-5beacaab979e')\"\n",
              "              title=\"Convert this dataframe to an interactive table.\"\n",
              "              style=\"display:none;\">\n",
              "        \n",
              "  <svg xmlns=\"http://www.w3.org/2000/svg\" height=\"24px\"viewBox=\"0 0 24 24\"\n",
              "       width=\"24px\">\n",
              "    <path d=\"M0 0h24v24H0V0z\" fill=\"none\"/>\n",
              "    <path d=\"M18.56 5.44l.94 2.06.94-2.06 2.06-.94-2.06-.94-.94-2.06-.94 2.06-2.06.94zm-11 1L8.5 8.5l.94-2.06 2.06-.94-2.06-.94L8.5 2.5l-.94 2.06-2.06.94zm10 10l.94 2.06.94-2.06 2.06-.94-2.06-.94-.94-2.06-.94 2.06-2.06.94z\"/><path d=\"M17.41 7.96l-1.37-1.37c-.4-.4-.92-.59-1.43-.59-.52 0-1.04.2-1.43.59L10.3 9.45l-7.72 7.72c-.78.78-.78 2.05 0 2.83L4 21.41c.39.39.9.59 1.41.59.51 0 1.02-.2 1.41-.59l7.78-7.78 2.81-2.81c.8-.78.8-2.07 0-2.86zM5.41 20L4 18.59l7.72-7.72 1.47 1.35L5.41 20z\"/>\n",
              "  </svg>\n",
              "      </button>\n",
              "      \n",
              "  <style>\n",
              "    .colab-df-container {\n",
              "      display:flex;\n",
              "      flex-wrap:wrap;\n",
              "      gap: 12px;\n",
              "    }\n",
              "\n",
              "    .colab-df-convert {\n",
              "      background-color: #E8F0FE;\n",
              "      border: none;\n",
              "      border-radius: 50%;\n",
              "      cursor: pointer;\n",
              "      display: none;\n",
              "      fill: #1967D2;\n",
              "      height: 32px;\n",
              "      padding: 0 0 0 0;\n",
              "      width: 32px;\n",
              "    }\n",
              "\n",
              "    .colab-df-convert:hover {\n",
              "      background-color: #E2EBFA;\n",
              "      box-shadow: 0px 1px 2px rgba(60, 64, 67, 0.3), 0px 1px 3px 1px rgba(60, 64, 67, 0.15);\n",
              "      fill: #174EA6;\n",
              "    }\n",
              "\n",
              "    [theme=dark] .colab-df-convert {\n",
              "      background-color: #3B4455;\n",
              "      fill: #D2E3FC;\n",
              "    }\n",
              "\n",
              "    [theme=dark] .colab-df-convert:hover {\n",
              "      background-color: #434B5C;\n",
              "      box-shadow: 0px 1px 3px 1px rgba(0, 0, 0, 0.15);\n",
              "      filter: drop-shadow(0px 1px 2px rgba(0, 0, 0, 0.3));\n",
              "      fill: #FFFFFF;\n",
              "    }\n",
              "  </style>\n",
              "\n",
              "      <script>\n",
              "        const buttonEl =\n",
              "          document.querySelector('#df-6993f0e8-0ed8-46f0-ba93-5beacaab979e button.colab-df-convert');\n",
              "        buttonEl.style.display =\n",
              "          google.colab.kernel.accessAllowed ? 'block' : 'none';\n",
              "\n",
              "        async function convertToInteractive(key) {\n",
              "          const element = document.querySelector('#df-6993f0e8-0ed8-46f0-ba93-5beacaab979e');\n",
              "          const dataTable =\n",
              "            await google.colab.kernel.invokeFunction('convertToInteractive',\n",
              "                                                     [key], {});\n",
              "          if (!dataTable) return;\n",
              "\n",
              "          const docLinkHtml = 'Like what you see? Visit the ' +\n",
              "            '<a target=\"_blank\" href=https://colab.research.google.com/notebooks/data_table.ipynb>data table notebook</a>'\n",
              "            + ' to learn more about interactive tables.';\n",
              "          element.innerHTML = '';\n",
              "          dataTable['output_type'] = 'display_data';\n",
              "          await google.colab.output.renderOutput(dataTable, element);\n",
              "          const docLink = document.createElement('div');\n",
              "          docLink.innerHTML = docLinkHtml;\n",
              "          element.appendChild(docLink);\n",
              "        }\n",
              "      </script>\n",
              "    </div>\n",
              "  </div>\n",
              "  "
            ]
          },
          "metadata": {},
          "execution_count": 112
        }
      ]
    },
    {
      "cell_type": "code",
      "source": [
        "y"
      ],
      "metadata": {
        "colab": {
          "base_uri": "https://localhost:8080/"
        },
        "id": "7_CRgYacvDL9",
        "outputId": "e08bf8d9-0171-4714-eefd-9aa9962c88b4"
      },
      "execution_count": null,
      "outputs": [
        {
          "output_type": "execute_result",
          "data": {
            "text/plain": [
              "0      28.96\n",
              "1      29.22\n",
              "2      28.47\n",
              "3      28.49\n",
              "4      28.30\n",
              "       ...  \n",
              "112    29.81\n",
              "113    29.72\n",
              "114    29.90\n",
              "115    31.63\n",
              "116    31.42\n",
              "Name: ANNUAL, Length: 117, dtype: float64"
            ]
          },
          "metadata": {},
          "execution_count": 113
        }
      ]
    },
    {
      "cell_type": "code",
      "source": [
        "reg = LinearRegression() #reg is the LinearRegression Model"
      ],
      "metadata": {
        "id": "xLnInSO6f-Yv"
      },
      "execution_count": null,
      "outputs": []
    },
    {
      "cell_type": "code",
      "source": [
        "reg.fit(x,y) #fit or training the reg model using x and y values(training data)"
      ],
      "metadata": {
        "colab": {
          "base_uri": "https://localhost:8080/"
        },
        "id": "nwxtBFnKf-bg",
        "outputId": "0df80e31-ff2a-4eb8-c6ce-7ad38d1ecfef"
      },
      "execution_count": null,
      "outputs": [
        {
          "output_type": "execute_result",
          "data": {
            "text/plain": [
              "LinearRegression()"
            ]
          },
          "metadata": {},
          "execution_count": 115
        }
      ]
    },
    {
      "cell_type": "code",
      "source": [
        "print(reg.coef_)  #slope for given data\n",
        "print(reg.intercept_)   #y intercept value for given data"
      ],
      "metadata": {
        "colab": {
          "base_uri": "https://localhost:8080/"
        },
        "id": "7jLh_ovSf-dn",
        "outputId": "4c9ef466-df83-47eb-ca25-7d65d6ab4801"
      },
      "execution_count": null,
      "outputs": [
        {
          "output_type": "stream",
          "name": "stdout",
          "text": [
            "[0.01312158]\n",
            "3.4761897126187016\n"
          ]
        }
      ]
    },
    {
      "cell_type": "code",
      "source": [
        "pred_val = reg.predict(x) #pred_val stores the values predicted by our model for input data,x\n",
        "pred_val"
      ],
      "metadata": {
        "colab": {
          "base_uri": "https://localhost:8080/"
        },
        "id": "oE6YUzzfqESJ",
        "outputId": "ff1a161d-4035-4469-c03d-b97712490b24"
      },
      "execution_count": null,
      "outputs": [
        {
          "output_type": "execute_result",
          "data": {
            "text/plain": [
              "array([28.4203158 , 28.43343739, 28.44655897, 28.45968055, 28.47280213,\n",
              "       28.48592371, 28.49904529, 28.51216687, 28.52528846, 28.53841004,\n",
              "       28.55153162, 28.5646532 , 28.57777478, 28.59089636, 28.60401794,\n",
              "       28.61713952, 28.63026111, 28.64338269, 28.65650427, 28.66962585,\n",
              "       28.68274743, 28.69586901, 28.70899059, 28.72211218, 28.73523376,\n",
              "       28.74835534, 28.76147692, 28.7745985 , 28.78772008, 28.80084166,\n",
              "       28.81396324, 28.82708483, 28.84020641, 28.85332799, 28.86644957,\n",
              "       28.87957115, 28.89269273, 28.90581431, 28.91893589, 28.93205748,\n",
              "       28.94517906, 28.95830064, 28.97142222, 28.9845438 , 28.99766538,\n",
              "       29.01078696, 29.02390855, 29.03703013, 29.05015171, 29.06327329,\n",
              "       29.07639487, 29.08951645, 29.10263803, 29.11575961, 29.1288812 ,\n",
              "       29.14200278, 29.15512436, 29.16824594, 29.18136752, 29.1944891 ,\n",
              "       29.20761068, 29.22073227, 29.23385385, 29.24697543, 29.26009701,\n",
              "       29.27321859, 29.28634017, 29.29946175, 29.31258333, 29.32570492,\n",
              "       29.3388265 , 29.35194808, 29.36506966, 29.37819124, 29.39131282,\n",
              "       29.4044344 , 29.41755599, 29.43067757, 29.44379915, 29.45692073,\n",
              "       29.47004231, 29.48316389, 29.49628547, 29.50940705, 29.52252864,\n",
              "       29.53565022, 29.5487718 , 29.56189338, 29.57501496, 29.58813654,\n",
              "       29.60125812, 29.6143797 , 29.62750129, 29.64062287, 29.65374445,\n",
              "       29.66686603, 29.67998761, 29.69310919, 29.70623077, 29.71935236,\n",
              "       29.73247394, 29.74559552, 29.7587171 , 29.77183868, 29.78496026,\n",
              "       29.79808184, 29.81120342, 29.82432501, 29.83744659, 29.85056817,\n",
              "       29.86368975, 29.87681133, 29.88993291, 29.90305449, 29.91617608,\n",
              "       29.92929766, 29.94241924])"
            ]
          },
          "metadata": {},
          "execution_count": 117
        }
      ]
    },
    {
      "cell_type": "code",
      "source": [
        "#finding Cost Functions ------> difference between actual output and predicted output\n",
        "\n",
        "MAE = mean_absolute_error(y,pred_val)   # abs(y - pred_val)\n",
        "MSE = mean_squared_error(y,pred_val)    # y - (pred_val)**2\n",
        "R2Error = r2_score(y,pred_val)\n",
        "print(MAE)\n",
        "print(MSE)\n",
        "print(R2Error)"
      ],
      "metadata": {
        "colab": {
          "base_uri": "https://localhost:8080/"
        },
        "id": "PrYXWH2JqEPd",
        "outputId": "d8085278-923d-425a-9090-2798306e3f82"
      },
      "execution_count": null,
      "outputs": [
        {
          "output_type": "stream",
          "name": "stdout",
          "text": [
            "0.22535284978630413\n",
            "0.10960795229110352\n",
            "0.6418078912783682\n"
          ]
        }
      ]
    },
    {
      "cell_type": "code",
      "source": [
        "reg.score(x,y)    #same as R2 squared error"
      ],
      "metadata": {
        "colab": {
          "base_uri": "https://localhost:8080/"
        },
        "id": "nq4P2V8bqEKg",
        "outputId": "770aa378-a66e-4fe1-b7e4-0353706150de"
      },
      "execution_count": null,
      "outputs": [
        {
          "output_type": "execute_result",
          "data": {
            "text/plain": [
              "0.6418078912783682"
            ]
          },
          "metadata": {},
          "execution_count": 119
        }
      ]
    },
    {
      "cell_type": "code",
      "source": [
        "plt.figure(figsize=(8,6))\n",
        "plt.title('Year vs Annual Temperature Plot')\n",
        "plt.xlabel('Year')\n",
        "plt.ylabel('Annual Average Temperature')\n",
        "plt.scatter(x,y,label = 'Actual datapoints',color='cyan',marker='*')    #plotting the actual datapoints(or actual trained data)\n",
        "plt.plot(x,pred_val, label = 'Predicted datapoints', color='black')   #plotting the graph or best fit line which passes through predicted values\n",
        "plt.legend()"
      ],
      "metadata": {
        "colab": {
          "base_uri": "https://localhost:8080/",
          "height": 421
        },
        "id": "p7dVtqApqEFL",
        "outputId": "998eaf46-c200-4fc5-ef14-2c64306c4513"
      },
      "execution_count": null,
      "outputs": [
        {
          "output_type": "execute_result",
          "data": {
            "text/plain": [
              "<matplotlib.legend.Legend at 0x7f866d490710>"
            ]
          },
          "metadata": {},
          "execution_count": 120
        },
        {
          "output_type": "display_data",
          "data": {
            "text/plain": [
              "<Figure size 576x432 with 1 Axes>"
            ],
            "image/png": "[encoded data removed]"
          },
          "metadata": {
            "needs_background": "light"
          }
        }
      ]
    },
    {
      "cell_type": "code",
      "source": [
        "sns.regplot(x='YEAR',y='ANNUAL',data=df) #use of seaborn to plot the graph for year vs annual data"
      ],
      "metadata": {
        "colab": {
          "base_uri": "https://localhost:8080/",
          "height": 296
        },
        "id": "Yxg2xcKIqECl",
        "outputId": "920f75d6-ccef-40e2-c8f3-c3b82932cea7"
      },
      "execution_count": null,
      "outputs": [
        {
          "output_type": "execute_result",
          "data": {
            "text/plain": [
              "<matplotlib.axes._subplots.AxesSubplot at 0x7f866d481290>"
            ]
          },
          "metadata": {},
          "execution_count": 121
        },
        {
          "output_type": "display_data",
          "data": {
            "text/plain": [
              "<Figure size 432x288 with 1 Axes>"
            ],
            "image/png": "[encoded data removed]"
          },
          "metadata": {
            "needs_background": "light"
          }
        }
      ]
    },
    {
      "cell_type": "code",
      "source": [
        "x1 = df[['YEAR']]\n",
        "y1 = df['JAN']"
      ],
      "metadata": {
        "id": "yThv_7AFqD9-"
      },
      "execution_count": null,
      "outputs": []
    },
    {
      "cell_type": "code",
      "source": [
        "reg1 = LinearRegression()"
      ],
      "metadata": {
        "id": "3_gzjGXpqD5G"
      },
      "execution_count": null,
      "outputs": []
    },
    {
      "cell_type": "code",
      "source": [
        "reg1.fit(x1,y1)"
      ],
      "metadata": {
        "colab": {
          "base_uri": "https://localhost:8080/"
        },
        "id": "LPoBbV-fyIaQ",
        "outputId": "5d21df41-9b29-4449-cd6e-1b1f82948b09"
      },
      "execution_count": null,
      "outputs": [
        {
          "output_type": "execute_result",
          "data": {
            "text/plain": [
              "LinearRegression()"
            ]
          },
          "metadata": {},
          "execution_count": 124
        }
      ]
    },
    {
      "cell_type": "code",
      "source": [
        "pred1 = reg1.predict(x1)"
      ],
      "metadata": {
        "id": "lLLf7iTUyIVb"
      },
      "execution_count": null,
      "outputs": []
    },
    {
      "cell_type": "code",
      "source": [
        "pred1 #1D array of predicted data by our regression model"
      ],
      "metadata": {
        "colab": {
          "base_uri": "https://localhost:8080/"
        },
        "id": "vnlp0yZZyISL",
        "outputId": "3622c979-7da0-41d6-e118-5af6f6e77d2c"
      },
      "execution_count": null,
      "outputs": [
        {
          "output_type": "execute_result",
          "data": {
            "text/plain": [
              "array([22.86613646, 22.8802968 , 22.89445713, 22.90861747, 22.9227778 ,\n",
              "       22.93693814, 22.95109847, 22.96525881, 22.97941914, 22.99357948,\n",
              "       23.00773981, 23.02190015, 23.03606048, 23.05022082, 23.06438115,\n",
              "       23.07854149, 23.09270182, 23.10686216, 23.12102249, 23.13518283,\n",
              "       23.14934316, 23.1635035 , 23.17766383, 23.19182417, 23.2059845 ,\n",
              "       23.22014484, 23.23430517, 23.24846551, 23.26262584, 23.27678618,\n",
              "       23.29094652, 23.30510685, 23.31926719, 23.33342752, 23.34758786,\n",
              "       23.36174819, 23.37590853, 23.39006886, 23.4042292 , 23.41838953,\n",
              "       23.43254987, 23.4467102 , 23.46087054, 23.47503087, 23.48919121,\n",
              "       23.50335154, 23.51751188, 23.53167221, 23.54583255, 23.55999288,\n",
              "       23.57415322, 23.58831355, 23.60247389, 23.61663422, 23.63079456,\n",
              "       23.64495489, 23.65911523, 23.67327556, 23.6874359 , 23.70159623,\n",
              "       23.71575657, 23.7299169 , 23.74407724, 23.75823757, 23.77239791,\n",
              "       23.78655824, 23.80071858, 23.81487891, 23.82903925, 23.84319958,\n",
              "       23.85735992, 23.87152025, 23.88568059, 23.89984092, 23.91400126,\n",
              "       23.92816159, 23.94232193, 23.95648226, 23.9706426 , 23.98480293,\n",
              "       23.99896327, 24.0131236 , 24.02728394, 24.04144427, 24.05560461,\n",
              "       24.06976494, 24.08392528, 24.09808561, 24.11224595, 24.12640629,\n",
              "       24.14056662, 24.15472696, 24.16888729, 24.18304763, 24.19720796,\n",
              "       24.2113683 , 24.22552863, 24.23968897, 24.2538493 , 24.26800964,\n",
              "       24.28216997, 24.29633031, 24.31049064, 24.32465098, 24.33881131,\n",
              "       24.35297165, 24.36713198, 24.38129232, 24.39545265, 24.40961299,\n",
              "       24.42377332, 24.43793366, 24.45209399, 24.46625433, 24.48041466,\n",
              "       24.494575  , 24.50873533])"
            ]
          },
          "metadata": {},
          "execution_count": 126
        }
      ]
    },
    {
      "cell_type": "code",
      "source": [
        "print(mean_absolute_error(y1,pred1))\n",
        "print(mean_squared_error(y1,pred1))\n",
        "print(r2_score(y1,pred1))"
      ],
      "metadata": {
        "colab": {
          "base_uri": "https://localhost:8080/"
        },
        "id": "E0eNkuryyILB",
        "outputId": "dcb94ee8-e63d-4184-b7eb-13ad609c02a9"
      },
      "execution_count": null,
      "outputs": [
        {
          "output_type": "stream",
          "name": "stdout",
          "text": [
            "0.5269972511599087\n",
            "0.4618622899063735\n",
            "0.33119961409323107\n"
          ]
        }
      ]
    },
    {
      "cell_type": "code",
      "source": [
        "plt.title('Year vs Jan Temperature Plot')\n",
        "plt.xlabel('Year')\n",
        "plt.ylabel('January Temperature')\n",
        "plt.scatter(x1,y1)"
      ],
      "metadata": {
        "colab": {
          "base_uri": "https://localhost:8080/",
          "height": 312
        },
        "id": "cRie6NTFyIHc",
        "outputId": "ebba0f78-1b77-49f5-8ce2-3ea8236cca96"
      },
      "execution_count": null,
      "outputs": [
        {
          "output_type": "execute_result",
          "data": {
            "text/plain": [
              "<matplotlib.collections.PathCollection at 0x7f866d3b4190>"
            ]
          },
          "metadata": {},
          "execution_count": 128
        },
        {
          "output_type": "display_data",
          "data": {
            "text/plain": [
              "<Figure size 432x288 with 1 Axes>"
            ],
            "image/png": "[encoded data removed]"
          },
          "metadata": {
            "needs_background": "light"
          }
        }
      ]
    },
    {
      "cell_type": "code",
      "source": [
        "plt.scatter(x1,y1,label='Actual or Trained Datapoints', color= 'skyblue')\n",
        "plt.plot(x1,pred1,label='Best fit line for Predicted data', color = 'black')\n",
        "plt.legend()"
      ],
      "metadata": {
        "colab": {
          "base_uri": "https://localhost:8080/",
          "height": 282
        },
        "id": "_uJuVdnP0rEE",
        "outputId": "9c4785e7-33e4-468b-f61e-a373703b2549"
      },
      "execution_count": null,
      "outputs": [
        {
          "output_type": "execute_result",
          "data": {
            "text/plain": [
              "<matplotlib.legend.Legend at 0x7f866d31bb10>"
            ]
          },
          "metadata": {},
          "execution_count": 129
        },
        {
          "output_type": "display_data",
          "data": {
            "text/plain": [
              "<Figure size 432x288 with 1 Axes>"
            ],
            "image/png": "[encoded data removed]"
          },
          "metadata": {
            "needs_background": "light"
          }
        }
      ]
    }
  ]
}